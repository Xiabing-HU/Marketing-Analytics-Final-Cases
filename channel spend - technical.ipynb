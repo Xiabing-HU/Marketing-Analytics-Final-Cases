{
 "cells": [
  {
   "cell_type": "code",
   "execution_count": 17,
   "metadata": {},
   "outputs": [],
   "source": [
    "import pandas as pd"
   ]
  },
  {
   "cell_type": "markdown",
   "metadata": {},
   "source": [
    "## Data"
   ]
  },
  {
   "cell_type": "code",
   "execution_count": 18,
   "metadata": {},
   "outputs": [
    {
     "data": {
      "text/html": [
       "<div>\n",
       "<style scoped>\n",
       "    .dataframe tbody tr th:only-of-type {\n",
       "        vertical-align: middle;\n",
       "    }\n",
       "\n",
       "    .dataframe tbody tr th {\n",
       "        vertical-align: top;\n",
       "    }\n",
       "\n",
       "    .dataframe thead th {\n",
       "        text-align: right;\n",
       "    }\n",
       "</style>\n",
       "<table border=\"1\" class=\"dataframe\">\n",
       "  <thead>\n",
       "    <tr style=\"text-align: right;\">\n",
       "      <th></th>\n",
       "      <th>attribution_technical</th>\n",
       "      <th>attribution_survey</th>\n",
       "      <th>account_creation_date</th>\n",
       "    </tr>\n",
       "  </thead>\n",
       "  <tbody>\n",
       "    <tr>\n",
       "      <th>0</th>\n",
       "      <td>facebook</td>\n",
       "      <td>facebook</td>\n",
       "      <td>2020-01-24 21:44:16</td>\n",
       "    </tr>\n",
       "    <tr>\n",
       "      <th>1</th>\n",
       "      <td>facebook</td>\n",
       "      <td>facebook</td>\n",
       "      <td>2020-03-01 15:44:35</td>\n",
       "    </tr>\n",
       "    <tr>\n",
       "      <th>2</th>\n",
       "      <td>organic</td>\n",
       "      <td>facebook</td>\n",
       "      <td>2019-12-07 16:37:06</td>\n",
       "    </tr>\n",
       "    <tr>\n",
       "      <th>3</th>\n",
       "      <td>search</td>\n",
       "      <td>tv</td>\n",
       "      <td>2020-01-27 16:09:32</td>\n",
       "    </tr>\n",
       "    <tr>\n",
       "      <th>4</th>\n",
       "      <td>discovery</td>\n",
       "      <td>youtube</td>\n",
       "      <td>2019-10-05 12:57:07</td>\n",
       "    </tr>\n",
       "    <tr>\n",
       "      <th>...</th>\n",
       "      <td>...</td>\n",
       "      <td>...</td>\n",
       "      <td>...</td>\n",
       "    </tr>\n",
       "    <tr>\n",
       "      <th>227623</th>\n",
       "      <td>facebook</td>\n",
       "      <td>facebook_organic</td>\n",
       "      <td>2019-11-17 14:12:33</td>\n",
       "    </tr>\n",
       "    <tr>\n",
       "      <th>227624</th>\n",
       "      <td>google_organic</td>\n",
       "      <td>referral</td>\n",
       "      <td>2019-12-06 18:02:13</td>\n",
       "    </tr>\n",
       "    <tr>\n",
       "      <th>227625</th>\n",
       "      <td>facebook</td>\n",
       "      <td>facebook</td>\n",
       "      <td>2019-12-21 19:40:44</td>\n",
       "    </tr>\n",
       "    <tr>\n",
       "      <th>227626</th>\n",
       "      <td>facebook</td>\n",
       "      <td>facebook</td>\n",
       "      <td>2020-01-17 23:58:51</td>\n",
       "    </tr>\n",
       "    <tr>\n",
       "      <th>227627</th>\n",
       "      <td>organic</td>\n",
       "      <td>tv</td>\n",
       "      <td>2019-11-26 19:09:09</td>\n",
       "    </tr>\n",
       "  </tbody>\n",
       "</table>\n",
       "<p>227628 rows × 3 columns</p>\n",
       "</div>"
      ],
      "text/plain": [
       "       attribution_technical attribution_survey account_creation_date\n",
       "0                   facebook           facebook   2020-01-24 21:44:16\n",
       "1                   facebook           facebook   2020-03-01 15:44:35\n",
       "2                    organic           facebook   2019-12-07 16:37:06\n",
       "3                     search                 tv   2020-01-27 16:09:32\n",
       "4                  discovery            youtube   2019-10-05 12:57:07\n",
       "...                      ...                ...                   ...\n",
       "227623              facebook   facebook_organic   2019-11-17 14:12:33\n",
       "227624        google_organic           referral   2019-12-06 18:02:13\n",
       "227625              facebook           facebook   2019-12-21 19:40:44\n",
       "227626              facebook           facebook   2020-01-17 23:58:51\n",
       "227627               organic                 tv   2019-11-26 19:09:09\n",
       "\n",
       "[227628 rows x 3 columns]"
      ]
     },
     "execution_count": 18,
     "metadata": {},
     "output_type": "execute_result"
    }
   ],
   "source": [
    "data = pd.read_excel('DC_Channel.xlsx')\n",
    "data"
   ]
  },
  {
   "cell_type": "code",
   "execution_count": 19,
   "metadata": {},
   "outputs": [
    {
     "name": "stdout",
     "output_type": "stream",
     "text": [
      "<class 'pandas.core.frame.DataFrame'>\n",
      "RangeIndex: 227628 entries, 0 to 227627\n",
      "Data columns (total 3 columns):\n",
      " #   Column                 Non-Null Count   Dtype         \n",
      "---  ------                 --------------   -----         \n",
      " 0   attribution_technical  227628 non-null  object        \n",
      " 1   attribution_survey     224984 non-null  object        \n",
      " 2   account_creation_date  227628 non-null  datetime64[ns]\n",
      "dtypes: datetime64[ns](1), object(2)\n",
      "memory usage: 5.2+ MB\n"
     ]
    }
   ],
   "source": [
    "data.info()"
   ]
  },
  {
   "cell_type": "code",
   "execution_count": 20,
   "metadata": {},
   "outputs": [
    {
     "data": {
      "text/html": [
       "<div>\n",
       "<style scoped>\n",
       "    .dataframe tbody tr th:only-of-type {\n",
       "        vertical-align: middle;\n",
       "    }\n",
       "\n",
       "    .dataframe tbody tr th {\n",
       "        vertical-align: top;\n",
       "    }\n",
       "\n",
       "    .dataframe thead th {\n",
       "        text-align: right;\n",
       "    }\n",
       "</style>\n",
       "<table border=\"1\" class=\"dataframe\">\n",
       "  <thead>\n",
       "    <tr style=\"text-align: right;\">\n",
       "      <th></th>\n",
       "      <th>bing</th>\n",
       "      <th>display</th>\n",
       "      <th>facebook</th>\n",
       "      <th>search</th>\n",
       "      <th>youtube</th>\n",
       "    </tr>\n",
       "    <tr>\n",
       "      <th>Date</th>\n",
       "      <th></th>\n",
       "      <th></th>\n",
       "      <th></th>\n",
       "      <th></th>\n",
       "      <th></th>\n",
       "    </tr>\n",
       "  </thead>\n",
       "  <tbody>\n",
       "    <tr>\n",
       "      <th>201907</th>\n",
       "      <td>400</td>\n",
       "      <td>12</td>\n",
       "      <td>9000</td>\n",
       "      <td>13000</td>\n",
       "      <td>90</td>\n",
       "    </tr>\n",
       "    <tr>\n",
       "      <th>201908</th>\n",
       "      <td>900</td>\n",
       "      <td>20</td>\n",
       "      <td>13000</td>\n",
       "      <td>18500</td>\n",
       "      <td>180</td>\n",
       "    </tr>\n",
       "    <tr>\n",
       "      <th>201909</th>\n",
       "      <td>1000</td>\n",
       "      <td>13</td>\n",
       "      <td>10500</td>\n",
       "      <td>19000</td>\n",
       "      <td>100</td>\n",
       "    </tr>\n",
       "    <tr>\n",
       "      <th>201910</th>\n",
       "      <td>1100</td>\n",
       "      <td>19</td>\n",
       "      <td>17000</td>\n",
       "      <td>24000</td>\n",
       "      <td>130</td>\n",
       "    </tr>\n",
       "    <tr>\n",
       "      <th>201911</th>\n",
       "      <td>1300</td>\n",
       "      <td>29</td>\n",
       "      <td>23000</td>\n",
       "      <td>25000</td>\n",
       "      <td>550</td>\n",
       "    </tr>\n",
       "    <tr>\n",
       "      <th>201912</th>\n",
       "      <td>300</td>\n",
       "      <td>31</td>\n",
       "      <td>16000</td>\n",
       "      <td>38000</td>\n",
       "      <td>900</td>\n",
       "    </tr>\n",
       "    <tr>\n",
       "      <th>202001</th>\n",
       "      <td>2100</td>\n",
       "      <td>148</td>\n",
       "      <td>11000</td>\n",
       "      <td>41000</td>\n",
       "      <td>4360</td>\n",
       "    </tr>\n",
       "    <tr>\n",
       "      <th>202002</th>\n",
       "      <td>3700</td>\n",
       "      <td>94</td>\n",
       "      <td>14000</td>\n",
       "      <td>44000</td>\n",
       "      <td>2420</td>\n",
       "    </tr>\n",
       "  </tbody>\n",
       "</table>\n",
       "</div>"
      ],
      "text/plain": [
       "        bing  display  facebook  search  youtube\n",
       "Date                                            \n",
       "201907   400       12      9000   13000       90\n",
       "201908   900       20     13000   18500      180\n",
       "201909  1000       13     10500   19000      100\n",
       "201910  1100       19     17000   24000      130\n",
       "201911  1300       29     23000   25000      550\n",
       "201912   300       31     16000   38000      900\n",
       "202001  2100      148     11000   41000     4360\n",
       "202002  3700       94     14000   44000     2420"
      ]
     },
     "execution_count": 20,
     "metadata": {},
     "output_type": "execute_result"
    }
   ],
   "source": [
    "channel_spend = pd.read_excel('5-Channel-Spend.xlsx',index_col=0)\n",
    "channel_spend"
   ]
  },
  {
   "cell_type": "markdown",
   "metadata": {},
   "source": [
    "## Reserve only date and month"
   ]
  },
  {
   "cell_type": "code",
   "execution_count": 21,
   "metadata": {},
   "outputs": [
    {
     "data": {
      "text/plain": [
       "0         202001\n",
       "1         202003\n",
       "2         201912\n",
       "3         202001\n",
       "4         201910\n",
       "           ...  \n",
       "227623    201911\n",
       "227624    201912\n",
       "227625    201912\n",
       "227626    202001\n",
       "227627    201911\n",
       "Name: account_creation_date, Length: 227628, dtype: int64"
      ]
     },
     "execution_count": 21,
     "metadata": {},
     "output_type": "execute_result"
    }
   ],
   "source": [
    "data['account_creation_date'] = data['account_creation_date'].dt.date\n",
    "data['account_creation_date'] = (pd.DatetimeIndex(data['account_creation_date']).year)*100 + (pd.DatetimeIndex(data['account_creation_date']).month)\n",
    "data['account_creation_date']"
   ]
  },
  {
   "cell_type": "markdown",
   "metadata": {},
   "source": [
    "## Channel spend - attribution_technical"
   ]
  },
  {
   "cell_type": "code",
   "execution_count": 22,
   "metadata": {},
   "outputs": [
    {
     "data": {
      "text/html": [
       "<div>\n",
       "<style scoped>\n",
       "    .dataframe tbody tr th:only-of-type {\n",
       "        vertical-align: middle;\n",
       "    }\n",
       "\n",
       "    .dataframe tbody tr th {\n",
       "        vertical-align: top;\n",
       "    }\n",
       "\n",
       "    .dataframe thead th {\n",
       "        text-align: right;\n",
       "    }\n",
       "</style>\n",
       "<table border=\"1\" class=\"dataframe\">\n",
       "  <thead>\n",
       "    <tr style=\"text-align: right;\">\n",
       "      <th></th>\n",
       "      <th>attribution_technical</th>\n",
       "      <th>account_creation_date</th>\n",
       "    </tr>\n",
       "  </thead>\n",
       "  <tbody>\n",
       "    <tr>\n",
       "      <th>0</th>\n",
       "      <td>facebook</td>\n",
       "      <td>202001</td>\n",
       "    </tr>\n",
       "    <tr>\n",
       "      <th>1</th>\n",
       "      <td>facebook</td>\n",
       "      <td>202003</td>\n",
       "    </tr>\n",
       "    <tr>\n",
       "      <th>2</th>\n",
       "      <td>organic</td>\n",
       "      <td>201912</td>\n",
       "    </tr>\n",
       "    <tr>\n",
       "      <th>3</th>\n",
       "      <td>search</td>\n",
       "      <td>202001</td>\n",
       "    </tr>\n",
       "    <tr>\n",
       "      <th>4</th>\n",
       "      <td>discovery</td>\n",
       "      <td>201910</td>\n",
       "    </tr>\n",
       "    <tr>\n",
       "      <th>...</th>\n",
       "      <td>...</td>\n",
       "      <td>...</td>\n",
       "    </tr>\n",
       "    <tr>\n",
       "      <th>227623</th>\n",
       "      <td>facebook</td>\n",
       "      <td>201911</td>\n",
       "    </tr>\n",
       "    <tr>\n",
       "      <th>227624</th>\n",
       "      <td>google_organic</td>\n",
       "      <td>201912</td>\n",
       "    </tr>\n",
       "    <tr>\n",
       "      <th>227625</th>\n",
       "      <td>facebook</td>\n",
       "      <td>201912</td>\n",
       "    </tr>\n",
       "    <tr>\n",
       "      <th>227626</th>\n",
       "      <td>facebook</td>\n",
       "      <td>202001</td>\n",
       "    </tr>\n",
       "    <tr>\n",
       "      <th>227627</th>\n",
       "      <td>organic</td>\n",
       "      <td>201911</td>\n",
       "    </tr>\n",
       "  </tbody>\n",
       "</table>\n",
       "<p>227628 rows × 2 columns</p>\n",
       "</div>"
      ],
      "text/plain": [
       "       attribution_technical  account_creation_date\n",
       "0                   facebook                 202001\n",
       "1                   facebook                 202003\n",
       "2                    organic                 201912\n",
       "3                     search                 202001\n",
       "4                  discovery                 201910\n",
       "...                      ...                    ...\n",
       "227623              facebook                 201911\n",
       "227624        google_organic                 201912\n",
       "227625              facebook                 201912\n",
       "227626              facebook                 202001\n",
       "227627               organic                 201911\n",
       "\n",
       "[227628 rows x 2 columns]"
      ]
     },
     "execution_count": 22,
     "metadata": {},
     "output_type": "execute_result"
    }
   ],
   "source": [
    "df_technical = pd.DataFrame(data, columns=['attribution_technical','account_creation_date'])\n",
    "df_technical"
   ]
  },
  {
   "cell_type": "code",
   "execution_count": 23,
   "metadata": {},
   "outputs": [],
   "source": [
    "channel_list = ['bing', 'display', 'facebook', 'search', 'youtube']\n",
    "time_list = [201907,201908,201909,201910,201911,201912,202001,202002]"
   ]
  },
  {
   "cell_type": "code",
   "execution_count": 24,
   "metadata": {},
   "outputs": [],
   "source": [
    "# Create empty dataframe\n",
    "survey_result = pd.DataFrame(columns=['bing', 'display', 'facebook', 'search', 'youtube'],index=time_list)"
   ]
  },
  {
   "cell_type": "code",
   "execution_count": 25,
   "metadata": {},
   "outputs": [
    {
     "data": {
      "text/html": [
       "<div>\n",
       "<style scoped>\n",
       "    .dataframe tbody tr th:only-of-type {\n",
       "        vertical-align: middle;\n",
       "    }\n",
       "\n",
       "    .dataframe tbody tr th {\n",
       "        vertical-align: top;\n",
       "    }\n",
       "\n",
       "    .dataframe thead th {\n",
       "        text-align: right;\n",
       "    }\n",
       "</style>\n",
       "<table border=\"1\" class=\"dataframe\">\n",
       "  <thead>\n",
       "    <tr style=\"text-align: right;\">\n",
       "      <th></th>\n",
       "      <th>bing</th>\n",
       "      <th>display</th>\n",
       "      <th>facebook</th>\n",
       "      <th>search</th>\n",
       "      <th>youtube</th>\n",
       "    </tr>\n",
       "  </thead>\n",
       "  <tbody>\n",
       "    <tr>\n",
       "      <th>201907</th>\n",
       "      <td>120</td>\n",
       "      <td>44</td>\n",
       "      <td>10011</td>\n",
       "      <td>1328</td>\n",
       "      <td>8</td>\n",
       "    </tr>\n",
       "    <tr>\n",
       "      <th>201908</th>\n",
       "      <td>71</td>\n",
       "      <td>74</td>\n",
       "      <td>9855</td>\n",
       "      <td>1939</td>\n",
       "      <td>15</td>\n",
       "    </tr>\n",
       "    <tr>\n",
       "      <th>201909</th>\n",
       "      <td>84</td>\n",
       "      <td>12</td>\n",
       "      <td>6129</td>\n",
       "      <td>1852</td>\n",
       "      <td>2</td>\n",
       "    </tr>\n",
       "    <tr>\n",
       "      <th>201910</th>\n",
       "      <td>86</td>\n",
       "      <td>50</td>\n",
       "      <td>9489</td>\n",
       "      <td>2333</td>\n",
       "      <td>11</td>\n",
       "    </tr>\n",
       "    <tr>\n",
       "      <th>201911</th>\n",
       "      <td>103</td>\n",
       "      <td>90</td>\n",
       "      <td>12995</td>\n",
       "      <td>2510</td>\n",
       "      <td>47</td>\n",
       "    </tr>\n",
       "    <tr>\n",
       "      <th>201912</th>\n",
       "      <td>28</td>\n",
       "      <td>112</td>\n",
       "      <td>9288</td>\n",
       "      <td>3770</td>\n",
       "      <td>76</td>\n",
       "    </tr>\n",
       "    <tr>\n",
       "      <th>202001</th>\n",
       "      <td>172</td>\n",
       "      <td>536</td>\n",
       "      <td>6289</td>\n",
       "      <td>4073</td>\n",
       "      <td>370</td>\n",
       "    </tr>\n",
       "    <tr>\n",
       "      <th>202002</th>\n",
       "      <td>303</td>\n",
       "      <td>341</td>\n",
       "      <td>7988</td>\n",
       "      <td>4300</td>\n",
       "      <td>205</td>\n",
       "    </tr>\n",
       "  </tbody>\n",
       "</table>\n",
       "</div>"
      ],
      "text/plain": [
       "        bing  display  facebook  search  youtube\n",
       "201907   120       44     10011    1328        8\n",
       "201908    71       74      9855    1939       15\n",
       "201909    84       12      6129    1852        2\n",
       "201910    86       50      9489    2333       11\n",
       "201911   103       90     12995    2510       47\n",
       "201912    28      112      9288    3770       76\n",
       "202001   172      536      6289    4073      370\n",
       "202002   303      341      7988    4300      205"
      ]
     },
     "execution_count": 25,
     "metadata": {},
     "output_type": "execute_result"
    }
   ],
   "source": [
    "for c in channel_list:\n",
    "    count_list = []\n",
    "    for t in time_list:\n",
    "        count = len(df_technical[(df_technical['attribution_technical']==c) & (df_technical['account_creation_date']==t)])\n",
    "        count_list.append(count)\n",
    "    survey_result[c] = count_list\n",
    "\n",
    "survey_result"
   ]
  },
  {
   "cell_type": "code",
   "execution_count": 26,
   "metadata": {},
   "outputs": [
    {
     "data": {
      "text/plain": [
       "[10800, 366, 113500, 222500, 8730]"
      ]
     },
     "execution_count": 26,
     "metadata": {},
     "output_type": "execute_result"
    }
   ],
   "source": [
    "spend_list = []\n",
    "for c in channel_list:\n",
    "    spend_list.append(channel_spend[c].sum())\n",
    "\n",
    "spend_list"
   ]
  },
  {
   "cell_type": "code",
   "execution_count": 27,
   "metadata": {},
   "outputs": [
    {
     "data": {
      "text/plain": [
       "[967, 1259, 72044, 22105, 734]"
      ]
     },
     "execution_count": 27,
     "metadata": {},
     "output_type": "execute_result"
    }
   ],
   "source": [
    "convert_list = []\n",
    "for c in survey_result:\n",
    "    convert_list.append(survey_result[c].sum())\n",
    "\n",
    "convert_list"
   ]
  },
  {
   "cell_type": "markdown",
   "metadata": {},
   "source": [
    "### Average CAC"
   ]
  },
  {
   "cell_type": "code",
   "execution_count": 28,
   "metadata": {},
   "outputs": [
    {
     "data": {
      "text/plain": [
       "[11.17, 0.29, 1.58, 10.07, 11.89]"
      ]
     },
     "execution_count": 28,
     "metadata": {},
     "output_type": "execute_result"
    }
   ],
   "source": [
    "avg_cac_list = []\n",
    "for i in range(0,5):\n",
    "    if convert_list[i] == 0:\n",
    "        avg_cac_list.append(0)\n",
    "    else:\n",
    "        avg_cac = round(spend_list[i]/convert_list[i],2)\n",
    "        avg_cac_list.append(avg_cac)\n",
    "\n",
    "avg_cac_list"
   ]
  },
  {
   "cell_type": "markdown",
   "metadata": {},
   "source": [
    "### Marginal CAC"
   ]
  },
  {
   "cell_type": "code",
   "execution_count": 29,
   "metadata": {},
   "outputs": [],
   "source": [
    "# Create empty dataframe\n",
    "marg_cac = pd.DataFrame(columns=['bing', 'display', 'facebook', 'search', 'youtube'],index=time_list)"
   ]
  },
  {
   "cell_type": "code",
   "execution_count": 30,
   "metadata": {},
   "outputs": [
    {
     "data": {
      "text/html": [
       "<div>\n",
       "<style scoped>\n",
       "    .dataframe tbody tr th:only-of-type {\n",
       "        vertical-align: middle;\n",
       "    }\n",
       "\n",
       "    .dataframe tbody tr th {\n",
       "        vertical-align: top;\n",
       "    }\n",
       "\n",
       "    .dataframe thead th {\n",
       "        text-align: right;\n",
       "    }\n",
       "</style>\n",
       "<table border=\"1\" class=\"dataframe\">\n",
       "  <thead>\n",
       "    <tr style=\"text-align: right;\">\n",
       "      <th></th>\n",
       "      <th>bing</th>\n",
       "      <th>display</th>\n",
       "      <th>facebook</th>\n",
       "      <th>search</th>\n",
       "      <th>youtube</th>\n",
       "    </tr>\n",
       "  </thead>\n",
       "  <tbody>\n",
       "    <tr>\n",
       "      <th>201907</th>\n",
       "      <td>3.33</td>\n",
       "      <td>0.27</td>\n",
       "      <td>0.90</td>\n",
       "      <td>9.79</td>\n",
       "      <td>11.25</td>\n",
       "    </tr>\n",
       "    <tr>\n",
       "      <th>201908</th>\n",
       "      <td>12.68</td>\n",
       "      <td>0.27</td>\n",
       "      <td>1.32</td>\n",
       "      <td>9.54</td>\n",
       "      <td>12.00</td>\n",
       "    </tr>\n",
       "    <tr>\n",
       "      <th>201909</th>\n",
       "      <td>11.90</td>\n",
       "      <td>1.08</td>\n",
       "      <td>1.71</td>\n",
       "      <td>10.26</td>\n",
       "      <td>50.00</td>\n",
       "    </tr>\n",
       "    <tr>\n",
       "      <th>201910</th>\n",
       "      <td>12.79</td>\n",
       "      <td>0.38</td>\n",
       "      <td>1.79</td>\n",
       "      <td>10.29</td>\n",
       "      <td>11.82</td>\n",
       "    </tr>\n",
       "    <tr>\n",
       "      <th>201911</th>\n",
       "      <td>12.62</td>\n",
       "      <td>0.32</td>\n",
       "      <td>1.77</td>\n",
       "      <td>9.96</td>\n",
       "      <td>11.70</td>\n",
       "    </tr>\n",
       "    <tr>\n",
       "      <th>201912</th>\n",
       "      <td>10.71</td>\n",
       "      <td>0.28</td>\n",
       "      <td>1.72</td>\n",
       "      <td>10.08</td>\n",
       "      <td>11.84</td>\n",
       "    </tr>\n",
       "    <tr>\n",
       "      <th>202001</th>\n",
       "      <td>12.21</td>\n",
       "      <td>0.28</td>\n",
       "      <td>1.75</td>\n",
       "      <td>10.07</td>\n",
       "      <td>11.78</td>\n",
       "    </tr>\n",
       "    <tr>\n",
       "      <th>202002</th>\n",
       "      <td>12.21</td>\n",
       "      <td>0.28</td>\n",
       "      <td>1.75</td>\n",
       "      <td>10.23</td>\n",
       "      <td>11.80</td>\n",
       "    </tr>\n",
       "  </tbody>\n",
       "</table>\n",
       "</div>"
      ],
      "text/plain": [
       "         bing  display  facebook  search  youtube\n",
       "201907   3.33     0.27      0.90    9.79    11.25\n",
       "201908  12.68     0.27      1.32    9.54    12.00\n",
       "201909  11.90     1.08      1.71   10.26    50.00\n",
       "201910  12.79     0.38      1.79   10.29    11.82\n",
       "201911  12.62     0.32      1.77    9.96    11.70\n",
       "201912  10.71     0.28      1.72   10.08    11.84\n",
       "202001  12.21     0.28      1.75   10.07    11.78\n",
       "202002  12.21     0.28      1.75   10.23    11.80"
      ]
     },
     "execution_count": 30,
     "metadata": {},
     "output_type": "execute_result"
    }
   ],
   "source": [
    "for c in channel_list:\n",
    "    marg_cac_list = []\n",
    "    for t in time_list:\n",
    "        if survey_result[c][t] == 0:\n",
    "            marg_cac_list.append(0)\n",
    "        else:\n",
    "            marg_cac_value = round(channel_spend[c][t]/survey_result[c][t],2)\n",
    "            marg_cac_list.append(marg_cac_value)\n",
    "    marg_cac[c] = marg_cac_list\n",
    "\n",
    "marg_cac"
   ]
  },
  {
   "cell_type": "code",
   "execution_count": 32,
   "metadata": {},
   "outputs": [],
   "source": [
    "marg_cac.loc['average_CAC'] = [11.17, 0.29, 1.58, 10.07, 11.89]"
   ]
  },
  {
   "cell_type": "code",
   "execution_count": 33,
   "metadata": {},
   "outputs": [
    {
     "data": {
      "text/html": [
       "<div>\n",
       "<style scoped>\n",
       "    .dataframe tbody tr th:only-of-type {\n",
       "        vertical-align: middle;\n",
       "    }\n",
       "\n",
       "    .dataframe tbody tr th {\n",
       "        vertical-align: top;\n",
       "    }\n",
       "\n",
       "    .dataframe thead th {\n",
       "        text-align: right;\n",
       "    }\n",
       "</style>\n",
       "<table border=\"1\" class=\"dataframe\">\n",
       "  <thead>\n",
       "    <tr style=\"text-align: right;\">\n",
       "      <th></th>\n",
       "      <th>bing</th>\n",
       "      <th>display</th>\n",
       "      <th>facebook</th>\n",
       "      <th>search</th>\n",
       "      <th>youtube</th>\n",
       "    </tr>\n",
       "  </thead>\n",
       "  <tbody>\n",
       "    <tr>\n",
       "      <th>201907</th>\n",
       "      <td>3.33</td>\n",
       "      <td>0.27</td>\n",
       "      <td>0.90</td>\n",
       "      <td>9.79</td>\n",
       "      <td>11.25</td>\n",
       "    </tr>\n",
       "    <tr>\n",
       "      <th>201908</th>\n",
       "      <td>12.68</td>\n",
       "      <td>0.27</td>\n",
       "      <td>1.32</td>\n",
       "      <td>9.54</td>\n",
       "      <td>12.00</td>\n",
       "    </tr>\n",
       "    <tr>\n",
       "      <th>201909</th>\n",
       "      <td>11.90</td>\n",
       "      <td>1.08</td>\n",
       "      <td>1.71</td>\n",
       "      <td>10.26</td>\n",
       "      <td>50.00</td>\n",
       "    </tr>\n",
       "    <tr>\n",
       "      <th>201910</th>\n",
       "      <td>12.79</td>\n",
       "      <td>0.38</td>\n",
       "      <td>1.79</td>\n",
       "      <td>10.29</td>\n",
       "      <td>11.82</td>\n",
       "    </tr>\n",
       "    <tr>\n",
       "      <th>201911</th>\n",
       "      <td>12.62</td>\n",
       "      <td>0.32</td>\n",
       "      <td>1.77</td>\n",
       "      <td>9.96</td>\n",
       "      <td>11.70</td>\n",
       "    </tr>\n",
       "    <tr>\n",
       "      <th>201912</th>\n",
       "      <td>10.71</td>\n",
       "      <td>0.28</td>\n",
       "      <td>1.72</td>\n",
       "      <td>10.08</td>\n",
       "      <td>11.84</td>\n",
       "    </tr>\n",
       "    <tr>\n",
       "      <th>202001</th>\n",
       "      <td>12.21</td>\n",
       "      <td>0.28</td>\n",
       "      <td>1.75</td>\n",
       "      <td>10.07</td>\n",
       "      <td>11.78</td>\n",
       "    </tr>\n",
       "    <tr>\n",
       "      <th>202002</th>\n",
       "      <td>12.21</td>\n",
       "      <td>0.28</td>\n",
       "      <td>1.75</td>\n",
       "      <td>10.23</td>\n",
       "      <td>11.80</td>\n",
       "    </tr>\n",
       "    <tr>\n",
       "      <th>average_CAC</th>\n",
       "      <td>11.17</td>\n",
       "      <td>0.29</td>\n",
       "      <td>1.58</td>\n",
       "      <td>10.07</td>\n",
       "      <td>11.89</td>\n",
       "    </tr>\n",
       "  </tbody>\n",
       "</table>\n",
       "</div>"
      ],
      "text/plain": [
       "              bing  display  facebook  search  youtube\n",
       "201907        3.33     0.27      0.90    9.79    11.25\n",
       "201908       12.68     0.27      1.32    9.54    12.00\n",
       "201909       11.90     1.08      1.71   10.26    50.00\n",
       "201910       12.79     0.38      1.79   10.29    11.82\n",
       "201911       12.62     0.32      1.77    9.96    11.70\n",
       "201912       10.71     0.28      1.72   10.08    11.84\n",
       "202001       12.21     0.28      1.75   10.07    11.78\n",
       "202002       12.21     0.28      1.75   10.23    11.80\n",
       "average_CAC  11.17     0.29      1.58   10.07    11.89"
      ]
     },
     "execution_count": 33,
     "metadata": {},
     "output_type": "execute_result"
    }
   ],
   "source": [
    "marg_cac"
   ]
  },
  {
   "cell_type": "code",
   "execution_count": 34,
   "metadata": {},
   "outputs": [],
   "source": [
    "marg_cac.to_csv('cs-technical.csv')"
   ]
  },
  {
   "cell_type": "code",
   "execution_count": null,
   "metadata": {},
   "outputs": [],
   "source": []
  }
 ],
 "metadata": {
  "kernelspec": {
   "display_name": "Python 3",
   "language": "python",
   "name": "python3"
  },
  "language_info": {
   "codemirror_mode": {
    "name": "ipython",
    "version": 3
   },
   "file_extension": ".py",
   "mimetype": "text/x-python",
   "name": "python",
   "nbconvert_exporter": "python",
   "pygments_lexer": "ipython3",
   "version": "3.8.3"
  },
  "toc": {
   "base_numbering": 1,
   "nav_menu": {},
   "number_sections": true,
   "sideBar": true,
   "skip_h1_title": false,
   "title_cell": "Table of Contents",
   "title_sidebar": "Contents",
   "toc_cell": false,
   "toc_position": {},
   "toc_section_display": true,
   "toc_window_display": false
  },
  "varInspector": {
   "cols": {
    "lenName": 16,
    "lenType": 16,
    "lenVar": 40
   },
   "kernels_config": {
    "python": {
     "delete_cmd_postfix": "",
     "delete_cmd_prefix": "del ",
     "library": "var_list.py",
     "varRefreshCmd": "print(var_dic_list())"
    },
    "r": {
     "delete_cmd_postfix": ") ",
     "delete_cmd_prefix": "rm(",
     "library": "var_list.r",
     "varRefreshCmd": "cat(var_dic_list()) "
    }
   },
   "types_to_exclude": [
    "module",
    "function",
    "builtin_function_or_method",
    "instance",
    "_Feature"
   ],
   "window_display": false
  }
 },
 "nbformat": 4,
 "nbformat_minor": 4
}
