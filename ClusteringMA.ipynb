{
 "cells": [
  {
   "cell_type": "code",
   "execution_count": 1,
   "metadata": {},
   "outputs": [],
   "source": [
    "import pandas as pd\n",
    "import numpy as np"
   ]
  },
  {
   "cell_type": "code",
   "execution_count": 2,
   "metadata": {},
   "outputs": [],
   "source": [
    "df= pd.read_excel('subscribers-cs.xlsx')"
   ]
  },
  {
   "cell_type": "code",
   "execution_count": 3,
   "metadata": {},
   "outputs": [
    {
     "name": "stdout",
     "output_type": "stream",
     "text": [
      "<class 'pandas.core.frame.DataFrame'>\n",
      "RangeIndex: 227256 entries, 0 to 227255\n",
      "Data columns (total 17 columns):\n",
      " #   Column                        Non-Null Count   Dtype         \n",
      "---  ------                        --------------   -----         \n",
      " 0   package_type                  191728 non-null  object        \n",
      " 1   preferred_genre               190978 non-null  object        \n",
      " 2   intended_use                  223743 non-null  object        \n",
      " 3   weekly_consumption_hour       189592 non-null  float64       \n",
      " 4   age                           192352 non-null  float64       \n",
      " 5   male_TF                       227256 non-null  bool          \n",
      " 6   attribution_technical         227256 non-null  object        \n",
      " 7   attribution_survey            224647 non-null  object        \n",
      " 8   op_sys                        214166 non-null  object        \n",
      " 9   plan_type                     227256 non-null  object        \n",
      " 10  initial_credit_card_declined  227256 non-null  bool          \n",
      " 11  join_fee                      192352 non-null  float64       \n",
      " 12  current_sub_TF                227256 non-null  bool          \n",
      " 13  discount_price                227256 non-null  float64       \n",
      " 14  account_creation_date         227256 non-null  datetime64[ns]\n",
      " 15  payment_period                227256 non-null  int64         \n",
      " 16  trial_completed               227256 non-null  bool          \n",
      "dtypes: bool(4), datetime64[ns](1), float64(4), int64(1), object(7)\n",
      "memory usage: 23.4+ MB\n"
     ]
    }
   ],
   "source": [
    "columns = ['package_type','preferred_genre','intended_use','weekly_consumption_hour','age','male_TF','attribution_technical','attribution_survey','op_sys','plan_type','initial_credit_card_declined','join_fee','current_sub_TF','discount_price','account_creation_date','payment_period','trial_completed']\n",
    "df = df[columns]\n",
    "df.info()\n",
    "#'account_creation_date'"
   ]
  },
  {
   "cell_type": "code",
   "execution_count": 4,
   "metadata": {
    "scrolled": true
   },
   "outputs": [
    {
     "name": "stdout",
     "output_type": "stream",
     "text": [
      "<class 'pandas.core.frame.DataFrame'>\n",
      "Int64Index: 144083 entries, 2 to 227255\n",
      "Data columns (total 17 columns):\n",
      " #   Column                        Non-Null Count   Dtype         \n",
      "---  ------                        --------------   -----         \n",
      " 0   package_type                  144083 non-null  object        \n",
      " 1   preferred_genre               144083 non-null  object        \n",
      " 2   intended_use                  144083 non-null  object        \n",
      " 3   weekly_consumption_hour       144083 non-null  float64       \n",
      " 4   age                           144083 non-null  float64       \n",
      " 5   male_TF                       144083 non-null  bool          \n",
      " 6   attribution_technical         144083 non-null  object        \n",
      " 7   attribution_survey            144083 non-null  object        \n",
      " 8   op_sys                        144083 non-null  object        \n",
      " 9   plan_type                     144083 non-null  object        \n",
      " 10  initial_credit_card_declined  144083 non-null  bool          \n",
      " 11  join_fee                      144083 non-null  float64       \n",
      " 12  current_sub_TF                144083 non-null  bool          \n",
      " 13  discount_price                144083 non-null  float64       \n",
      " 14  account_creation_date         144083 non-null  datetime64[ns]\n",
      " 15  payment_period                144083 non-null  int64         \n",
      " 16  trial_completed               144083 non-null  bool          \n",
      "dtypes: bool(4), datetime64[ns](1), float64(4), int64(1), object(7)\n",
      "memory usage: 15.9+ MB\n"
     ]
    }
   ],
   "source": [
    "df.dropna(axis=0, how='any', inplace=True)\n",
    "df.info()"
   ]
  },
  {
   "cell_type": "code",
   "execution_count": 5,
   "metadata": {},
   "outputs": [],
   "source": [
    "df['account_creation_date'] = df['account_creation_date'].dt.date\n",
    "df['account_creation_date'] = (pd.DatetimeIndex(df['account_creation_date']).year)*100 + (pd.DatetimeIndex(df['account_creation_date']).month)"
   ]
  },
  {
   "cell_type": "code",
   "execution_count": 6,
   "metadata": {},
   "outputs": [],
   "source": [
    "#def\n",
    "def get_dummies(col):\n",
    "    names = list(set(df[col]))\n",
    "    dummies = pd.get_dummies(df[col])\n",
    "    merged = pd.concat([df, dummies], axis='columns')\n",
    "    final = merged.drop(columns = names[0], axis='columns')\n",
    "    return final"
   ]
  },
  {
   "cell_type": "code",
   "execution_count": 7,
   "metadata": {},
   "outputs": [
    {
     "name": "stdout",
     "output_type": "stream",
     "text": [
      "<class 'pandas.core.frame.DataFrame'>\n",
      "Int64Index: 144083 entries, 2 to 227255\n",
      "Data columns (total 96 columns):\n",
      " #   Column                        Non-Null Count   Dtype  \n",
      "---  ------                        --------------   -----  \n",
      " 0   package_type                  144083 non-null  object \n",
      " 1   preferred_genre               144083 non-null  object \n",
      " 2   intended_use                  144083 non-null  object \n",
      " 3   weekly_consumption_hour       144083 non-null  float64\n",
      " 4   age                           144083 non-null  float64\n",
      " 5   male_TF                       144083 non-null  bool   \n",
      " 6   attribution_technical         144083 non-null  object \n",
      " 7   attribution_survey            144083 non-null  object \n",
      " 8   op_sys                        144083 non-null  object \n",
      " 9   plan_type                     144083 non-null  object \n",
      " 10  initial_credit_card_declined  144083 non-null  bool   \n",
      " 11  join_fee                      144083 non-null  float64\n",
      " 12  current_sub_TF                144083 non-null  bool   \n",
      " 13  discount_price                144083 non-null  float64\n",
      " 14  account_creation_date         144083 non-null  int64  \n",
      " 15  payment_period                144083 non-null  int64  \n",
      " 16  trial_completed               144083 non-null  bool   \n",
      " 17  base                          144083 non-null  uint8  \n",
      " 18  enhanced                      144083 non-null  uint8  \n",
      " 19  comedy                        144083 non-null  uint8  \n",
      " 20  international                 144083 non-null  uint8  \n",
      " 21  other                         144083 non-null  uint8  \n",
      " 22  regional                      144083 non-null  uint8  \n",
      " 23  education                     144083 non-null  uint8  \n",
      " 24  expand international access   144083 non-null  uint8  \n",
      " 25  expand regional access        144083 non-null  uint8  \n",
      " 26  other                         144083 non-null  uint8  \n",
      " 27  replace OTT                   144083 non-null  uint8  \n",
      " 28  supplement OTT                144083 non-null  uint8  \n",
      " 29  True                          144083 non-null  uint8  \n",
      " 30  affiliate                     144083 non-null  uint8  \n",
      " 31  appstore                      144083 non-null  uint8  \n",
      " 32  bing                          144083 non-null  uint8  \n",
      " 33  brand sem intent bing         144083 non-null  uint8  \n",
      " 34  brand sem intent google       144083 non-null  uint8  \n",
      " 35  content_greatist              144083 non-null  uint8  \n",
      " 36  criteo                        144083 non-null  uint8  \n",
      " 37  direct_mail                   144083 non-null  uint8  \n",
      " 38  discovery                     144083 non-null  uint8  \n",
      " 39  display                       144083 non-null  uint8  \n",
      " 40  email                         144083 non-null  uint8  \n",
      " 41  email_blast                   144083 non-null  uint8  \n",
      " 42  facebook                      144083 non-null  uint8  \n",
      " 43  facebook_organic              144083 non-null  uint8  \n",
      " 44  google_organic                144083 non-null  uint8  \n",
      " 45  influencer                    144083 non-null  uint8  \n",
      " 46  internal                      144083 non-null  uint8  \n",
      " 47  organic                       144083 non-null  uint8  \n",
      " 48  other                         144083 non-null  uint8  \n",
      " 49  ott                           144083 non-null  uint8  \n",
      " 50  pinterest                     144083 non-null  uint8  \n",
      " 51  pinterest_organic             144083 non-null  uint8  \n",
      " 52  playstore                     144083 non-null  uint8  \n",
      " 53  podcast                       144083 non-null  uint8  \n",
      " 54  quora                         144083 non-null  uint8  \n",
      " 55  referral                      144083 non-null  uint8  \n",
      " 56  samsung                       144083 non-null  uint8  \n",
      " 57  search                        144083 non-null  uint8  \n",
      " 58  tv                            144083 non-null  uint8  \n",
      " 59  vod                           144083 non-null  uint8  \n",
      " 60  youtube                       144083 non-null  uint8  \n",
      " 61  affiliate                     144083 non-null  uint8  \n",
      " 62  amfm_radio                    144083 non-null  uint8  \n",
      " 63  direct_mail                   144083 non-null  uint8  \n",
      " 64  facebook                      144083 non-null  uint8  \n",
      " 65  facebook_organic              144083 non-null  uint8  \n",
      " 66  other                         144083 non-null  uint8  \n",
      " 67  ott                           144083 non-null  uint8  \n",
      " 68  pinterest                     144083 non-null  uint8  \n",
      " 69  podcast                       144083 non-null  uint8  \n",
      " 70  public_radio                  144083 non-null  uint8  \n",
      " 71  referral                      144083 non-null  uint8  \n",
      " 72  search                        144083 non-null  uint8  \n",
      " 73  social_organic                144083 non-null  uint8  \n",
      " 74  tv                            144083 non-null  uint8  \n",
      " 75  youtube                       144083 non-null  uint8  \n",
      " 76  high_14                       144083 non-null  uint8  \n",
      " 77  low_14                        144083 non-null  uint8  \n",
      " 78  4.0737                        144083 non-null  uint8  \n",
      " 79  4.22049999999999              144083 non-null  uint8  \n",
      " 80  4.36729999999999              144083 non-null  uint8  \n",
      " 81  4.5141                        144083 non-null  uint8  \n",
      " 82  5.0279                        144083 non-null  uint8  \n",
      " 83  Android                       144083 non-null  uint8  \n",
      " 84  201906                        144083 non-null  uint8  \n",
      " 85  201907                        144083 non-null  uint8  \n",
      " 86  201908                        144083 non-null  uint8  \n",
      " 87  201909                        144083 non-null  uint8  \n",
      " 88  201910                        144083 non-null  uint8  \n",
      " 89  201911                        144083 non-null  uint8  \n",
      " 90  201912                        144083 non-null  uint8  \n",
      " 91  202002                        144083 non-null  uint8  \n",
      " 92  202003                        144083 non-null  uint8  \n",
      " 93  1                             144083 non-null  uint8  \n",
      " 94  2                             144083 non-null  uint8  \n",
      " 95  3                             144083 non-null  uint8  \n",
      "dtypes: bool(4), float64(4), int64(2), object(7), uint8(79)\n",
      "memory usage: 26.8+ MB\n",
      "None\n"
     ]
    }
   ],
   "source": [
    "#binary\n",
    "# df['male_TF']= df['male_TF'].astype('category')\n",
    "# df['initial_credit_card_declined']= df['initial_credit_card_declined'].astype('category')\n",
    "# df['current_sub_TF']= df['current_sub_TF'].astype('current_sub_TF')\n",
    "\n",
    "#multi\n",
    "categorical_col = ['package_type','preferred_genre','intended_use','male_TF','attribution_technical','attribution_survey','plan_type','discount_price','op_sys', 'account_creation_date','payment_period']\n",
    "for col in categorical_col:\n",
    "    df = get_dummies(col)\n",
    "    \n",
    "print(df.info())\n"
   ]
  },
  {
   "cell_type": "code",
   "execution_count": 8,
   "metadata": {},
   "outputs": [],
   "source": [
    "from sklearn import mixture\n",
    "import matplotlib.pyplot as plt\n",
    "import numpy as np\n",
    "from datetime import datetime"
   ]
  },
  {
   "cell_type": "code",
   "execution_count": 9,
   "metadata": {},
   "outputs": [
    {
     "name": "stdout",
     "output_type": "stream",
     "text": [
      "feature:\n",
      " ['weekly_consumption_hour', 'age', 'initial_credit_card_declined', 'join_fee', 'current_sub_TF', 'trial_completed', 'base', 'enhanced', 'comedy', 'international', 'other', 'regional', 'education', 'expand international access', 'expand regional access', 'other', 'replace OTT', 'supplement OTT', True, 'affiliate', 'appstore', 'bing', 'brand sem intent bing', 'brand sem intent google', 'content_greatist', 'criteo', 'direct_mail', 'discovery', 'display', 'email', 'email_blast', 'facebook', 'facebook_organic', 'google_organic', 'influencer', 'internal', 'organic', 'other', 'ott', 'pinterest', 'pinterest_organic', 'playstore', 'podcast', 'quora', 'referral', 'samsung', 'search', 'tv', 'vod', 'youtube', 'affiliate', 'amfm_radio', 'direct_mail', 'facebook', 'facebook_organic', 'other', 'ott', 'pinterest', 'podcast', 'public_radio', 'referral', 'search', 'social_organic', 'tv', 'youtube', 'high_14', 'low_14', 4.0737, 4.22049999999999, 4.36729999999999, 4.5141, 5.0279, 'Android', 201906, 201907, 201908, 201909, 201910, 201911, 201912, 202002, 202003, 1, 2, 3]\n"
     ]
    }
   ],
   "source": [
    "feature_x = [tag for tag in df.columns if tag not in categorical_col]\n",
    "print('feature:\\n', feature_x)\n",
    "X = df[feature_x].values"
   ]
  },
  {
   "cell_type": "markdown",
   "metadata": {},
   "source": [
    "# GMM"
   ]
  },
  {
   "cell_type": "code",
   "execution_count": 10,
   "metadata": {},
   "outputs": [
    {
     "data": {
      "image/png": "[encoded data removed]",
      "text/plain": [
       "<Figure size 432x288 with 1 Axes>"
      ]
     },
     "metadata": {
      "needs_background": "light"
     },
     "output_type": "display_data"
    }
   ],
   "source": [
    "# How many clusters?\n",
    "n_components = np.arange(1, 11)\n",
    "models = [mixture.GaussianMixture(n, covariance_type='full', random_state= 2020).fit(X) for n in n_components]\n",
    "plt.plot(n_components, [m.bic(X) for m in models], label='BIC')\n",
    "plt.legend(loc='best')\n",
    "plt.xlabel('n_components')\n",
    "plt.show()"
   ]
  },
  {
   "cell_type": "code",
   "execution_count": 11,
   "metadata": {},
   "outputs": [],
   "source": [
    "# GMM\n",
    "GMM = mixture.GaussianMixture(n_components=4, covariance_type='full')\n",
    "gmm = GMM.fit(X)\n",
    "labels = gmm.predict(X)\n",
    "df_GMM = df\n",
    "df_GMM['cluster'] = labels\n",
    "df_GMM.to_csv('clusteredMA-GMM-1106.csv')"
   ]
  },
  {
   "cell_type": "markdown",
   "metadata": {},
   "source": [
    "# K-MEANS"
   ]
  },
  {
   "cell_type": "code",
   "execution_count": 10,
   "metadata": {},
   "outputs": [],
   "source": [
    "# Importing MinMaxscalar module  \n",
    "from sklearn.preprocessing import MinMaxScaler\n",
    "minmaxscaler = MinMaxScaler()\n",
    "# fitting \n",
    "X_scaled = minmaxscaler.fit_transform(X) "
   ]
  },
  {
   "cell_type": "code",
   "execution_count": 11,
   "metadata": {},
   "outputs": [
    {
     "name": "stdout",
     "output_type": "stream",
     "text": [
      "feature dim: (144083, 132)\n"
     ]
    }
   ],
   "source": [
    "features = df.columns\n",
    "#num_features = len(features)\n",
    "X = df[features].values\n",
    "num_samples, num_features = X.shape\n",
    "print('feature dim:', X.shape)"
   ]
  },
  {
   "cell_type": "code",
   "execution_count": 15,
   "metadata": {},
   "outputs": [
    {
     "name": "stdout",
     "output_type": "stream",
     "text": [
      "{2: 0.10413104588219739, 3: 0.10043082292006633, 4: 0.07935772583893176, 5: 0.09475728682181186, 6: 0.08891975806897037, 7: 0.08908661946453253, 8: 0.08494732070440816, 9: 0.07758460249568847, 10: 0.07511266335613553, 11: 0.07784079202906244, 12: 0.09278859866860892, 13: 0.09786276720417394, 14: 0.09158023281900135, 15: 0.09567762474843762, 16: 0.09566652159494868, 17: 0.10379978793785767, 18: 0.09477957026006308, 19: 0.08716422279893908}\n"
     ]
    },
    {
     "data": {
      "image/png": "[encoded data removed]",
      "text/plain": [
       "<Figure size 432x288 with 1 Axes>"
      ]
     },
     "metadata": {
      "needs_background": "light"
     },
     "output_type": "display_data"
    }
   ],
   "source": [
    "from sklearn.cluster import KMeans\n",
    "from sklearn.metrics import silhouette_score\n",
    "\n",
    "scores = {}\n",
    "for k in range(2, 20):\n",
    "    kmeans = KMeans(n_clusters=k, random_state=2020)\n",
    "    kmeans.fit(X_scaled)\n",
    "    score = silhouette_score(X_scaled, kmeans.labels_)\n",
    "    scores[k] = score\n",
    "print(scores)  \n",
    "\n",
    "a = list(scores.keys())\n",
    "v = list(scores.values())\n",
    "ax = plt.subplot()\n",
    "ax.plot(a, v, '-*')\n",
    "ax.set_xticks(np.arange(2, 20))\n",
    "ax.grid()\n",
    "plt.show()"
   ]
  },
  {
   "cell_type": "code",
   "execution_count": 12,
   "metadata": {},
   "outputs": [
    {
     "data": {
      "image/png": "[encoded data removed]",
      "text/plain": [
       "<Figure size 576x396 with 2 Axes>"
      ]
     },
     "metadata": {},
     "output_type": "display_data"
    },
    {
     "data": {
      "text/plain": [
       "<matplotlib.axes._subplots.AxesSubplot at 0x7f9b05e43e20>"
      ]
     },
     "execution_count": 12,
     "metadata": {},
     "output_type": "execute_result"
    }
   ],
   "source": [
    "from sklearn.cluster import KMeans\n",
    "from sklearn.datasets import make_blobs\n",
    "import yellowbrick\n",
    "from yellowbrick.cluster import KElbowVisualizer\n",
    "\n",
    "model = KMeans()\n",
    "visualizer = KElbowVisualizer(model, k=(2,12))\n",
    "\n",
    "visualizer.fit(X_scaled)        # Fit the data to the visualizer\n",
    "visualizer.show()        # Finalize and render the figure"
   ]
  },
  {
   "cell_type": "code",
   "execution_count": 13,
   "metadata": {},
   "outputs": [],
   "source": [
    "kmeans = KMeans(n_clusters=5, random_state=2020)\n",
    "y_pred = kmeans.fit_predict(X_scaled)\n",
    "df_kmeans = df\n",
    "df_kmeans['cluster'] = y_pred\n",
    "df_kmeans.to_csv('clusteredMA—kmeans.csv')"
   ]
  },
  {
   "cell_type": "code",
   "execution_count": 13,
   "metadata": {},
   "outputs": [],
   "source": [
    "# def visualize_cluster_result(x, dim1, dim2, y_pred, k):\n",
    "#     # select two feature dims: dim1, dim2, visualize the clusters\n",
    "#     assert dim1 in range(x.shape[1])\n",
    "#     assert dim2 in range(x.shape[1])\n",
    "#     ax = plt.subplot()\n",
    "#     # use a for loop to plot each cluster (with different colors)\n",
    "#     for i in range(k):\n",
    "#         ax.scatter(x[y_pred == i, dim1], x[y_pred ==  i, dim2], label='cluster: %d' % i)\n",
    "#     plt.title('Visualization of clustering of dim %d and dim %d' % (dim1, dim2))\n",
    "#     ax.set_xlabel('dim: %d' % dim1)\n",
    "#     ax.set_ylabel('dim: %d' % dim2)\n",
    "#     ax.legend()\n",
    "#     plt.show()"
   ]
  },
  {
   "cell_type": "code",
   "execution_count": 17,
   "metadata": {},
   "outputs": [],
   "source": [
    "#visualize_cluster_result(X, 2, 3, labels, 4)"
   ]
  },
  {
   "cell_type": "code",
   "execution_count": null,
   "metadata": {},
   "outputs": [],
   "source": []
  }
 ],
 "metadata": {
  "kernelspec": {
   "display_name": "Python 3",
   "language": "python",
   "name": "python3"
  },
  "language_info": {
   "codemirror_mode": {
    "name": "ipython",
    "version": 3
   },
   "file_extension": ".py",
   "mimetype": "text/x-python",
   "name": "python",
   "nbconvert_exporter": "python",
   "pygments_lexer": "ipython3",
   "version": "3.8.3"
  }
 },
 "nbformat": 4,
 "nbformat_minor": 4
}
